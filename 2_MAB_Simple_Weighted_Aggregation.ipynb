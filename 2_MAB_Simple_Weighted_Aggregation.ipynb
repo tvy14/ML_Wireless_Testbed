{
  "nbformat": 4,
  "nbformat_minor": 0,
  "metadata": {
    "colab": {
      "provenance": [],
      "authorship_tag": "ABX9TyMQBdC7Aum7gcuoDb2Yeqa0"
    },
    "kernelspec": {
      "name": "python3",
      "display_name": "Python 3"
    },
    "language_info": {
      "name": "python"
    }
  },
  "cells": [
    {
      "cell_type": "markdown",
      "source": [
        "Simple Development of MAB-FL in Random Manner"
      ],
      "metadata": {
        "id": "u5CzJNAquexL"
      }
    },
    {
      "cell_type": "code",
      "source": [
        "import numpy as np\n",
        "from sklearn.linear_model import LinearRegression\n",
        "from sklearn.metrics import mean_squared_error\n",
        "import random\n"
      ],
      "metadata": {
        "id": "argeK6PJuc5W"
      },
      "execution_count": null,
      "outputs": []
    },
    {
      "cell_type": "code",
      "execution_count": null,
      "metadata": {
        "id": "CyfcXcXnuWWB"
      },
      "outputs": [],
      "source": [
        "#Intiial Setting for number of clients and number of rounds /iterations to aggregate the global aggregations\n",
        "num_devices = 10\n",
        "num_rounds = 100\n",
        "model_weights = []  # Sotring model\n",
        "global_models = []  # Storing models after each round\n",
        "\n",
        "# Simulate local model training on devices\n",
        "def train_local_models(num_devices):\n",
        "    models = []\n",
        "    for _ in range(num_devices):\n",
        "        # Create a simple linear regression model with random coefficients\n",
        "        model = LinearRegression()\n",
        "        model.coef_ = np.random.rand(1)\n",
        "        model.intercept_ = np.random.rand(1)\n",
        "        models.append(model)\n",
        "    return models\n",
        "\n",
        "# Simulate model aggregation to get global model\n",
        "def aggregate_models(models):\n",
        "    # Average the coefficients of the models\n",
        "    avg_coef = np.mean([model.coef_ for model in models])\n",
        "    avg_intercept = np.mean([model.intercept_ for model in models])\n",
        "\n",
        "    global_model = LinearRegression()\n",
        "    global_model.coef_ = avg_coef\n",
        "    global_model.intercept_ = avg_intercept\n",
        "    return global_model\n",
        "\n",
        "# Multi-Armed Bandit (MAB) for model selection\n",
        "def mab_select_model(models, epsilon=0.1):\n",
        "    if random.random() < epsilon:  # Explore\n",
        "        return random.choice(models)\n",
        "    else:  # Exploit\n",
        "        losses = [mean_squared_error([0], model.predict([[0]])) for model in models]  # Example loss calculation\n",
        "        return models[np.argmin(losses)]\n"
      ]
    },
    {
      "cell_type": "code",
      "source": [
        "\n",
        "# Main simulation loop\n",
        "for _ in range(num_rounds):\n",
        "    local_models = train_local_models(num_devices)\n",
        "    model_weights.extend(local_models)\n",
        "    selected_model = mab_select_model(model_weights)\n",
        "    global_model = aggregate_models(model_weights)\n",
        "    global_models.append(global_model)\n",
        "\n",
        "# Evaluate the final global model\n",
        "X_test = np.array([[0]])  # Example test data\n",
        "y_test = np.array([0])   # Example test label\n",
        "final_global_model = global_models[-1]\n",
        "y_pred = final_global_model.predict(X_test)\n",
        "loss = mean_squared_error(y_test, y_pred)\n",
        "\n",
        "print(\"Final Global Model Loss:\", loss)\n"
      ],
      "metadata": {
        "id": "zRcnBupqun_g"
      },
      "execution_count": null,
      "outputs": []
    }
  ]
}